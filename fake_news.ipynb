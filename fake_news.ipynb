{
 "cells": [
  {
   "cell_type": "code",
   "execution_count": 1,
   "id": "e5b7e142-0d06-4d8b-9390-3172a3e65231",
   "metadata": {},
   "outputs": [],
   "source": [
    "#Requirements for the project:"
   ]
  },
  {
   "cell_type": "code",
   "execution_count": 2,
   "id": "74c676c8-a6e0-4da0-a215-ac7a606e03e5",
   "metadata": {},
   "outputs": [],
   "source": [
    "#required libraries for this project:\n",
    "import pandas as pd\n",
    "import numpy as np\n",
    "import matplotlib.pyplot as plt\n",
    "import seaborn as sns\n",
    "import re\n",
    "import string\n",
    "import nltk\n",
    "from nltk.corpus import stopwords\n",
    "from nltk.stem import WordNetLemmatizer\n",
    "from sklearn.model_selection import train_test_split\n",
    "from sklearn.feature_extraction.text import TfidfVectorizer\n",
    "from sklearn.linear_model import LogisticRegression\n",
    "from sklearn.tree import DecisionTreeClassifier\n",
    "from sklearn.ensemble import RandomForestClassifier\n",
    "from sklearn.metrics import accuracy_score, classification_report, confusion_matrix\n",
    "import tensorflow as tf\n",
    "from tensorflow.keras.preprocessing.text import Tokenizer\n",
    "from tensorflow.keras.preprocessing.sequence import pad_sequences\n",
    "from tensorflow.keras.models import Sequential\n",
    "from tensorflow.keras.layers import Embedding, LSTM, Dense, Dropout"
   ]
  },
  {
   "cell_type": "code",
   "execution_count": 3,
   "id": "b4b642fc-31c2-40e2-af39-be4455cffcbb",
   "metadata": {},
   "outputs": [
    {
     "name": "stderr",
     "output_type": "stream",
     "text": [
      "[nltk_data] Downloading package punkt_tab to\n",
      "[nltk_data]     C:\\Users\\shive\\AppData\\Roaming\\nltk_data...\n",
      "[nltk_data]   Package punkt_tab is already up-to-date!\n",
      "[nltk_data] Downloading package punkt to\n",
      "[nltk_data]     C:\\Users\\shive\\AppData\\Roaming\\nltk_data...\n",
      "[nltk_data]   Package punkt is already up-to-date!\n",
      "[nltk_data] Downloading package stopwords to\n",
      "[nltk_data]     C:\\Users\\shive\\AppData\\Roaming\\nltk_data...\n",
      "[nltk_data]   Package stopwords is already up-to-date!\n",
      "[nltk_data] Downloading package wordnet to\n",
      "[nltk_data]     C:\\Users\\shive\\AppData\\Roaming\\nltk_data...\n",
      "[nltk_data]   Package wordnet is already up-to-date!\n",
      "[nltk_data] Downloading package omw-1.4 to\n",
      "[nltk_data]     C:\\Users\\shive\\AppData\\Roaming\\nltk_data...\n",
      "[nltk_data]   Package omw-1.4 is already up-to-date!\n"
     ]
    },
    {
     "data": {
      "text/plain": [
       "True"
      ]
     },
     "execution_count": 3,
     "metadata": {},
     "output_type": "execute_result"
    }
   ],
   "source": [
    "#resources of nltk\n",
    "nltk.download('punkt_tab')\n",
    "nltk.download('punkt')\n",
    "nltk.download('stopwords')\n",
    "nltk.download('wordnet')\n",
    "nltk.download('omw-1.4') "
   ]
  },
  {
   "cell_type": "code",
   "execution_count": 4,
   "id": "5f625ea9-627b-4d8b-bdd4-e7f9147f6064",
   "metadata": {},
   "outputs": [],
   "source": [
    "#Data Exploration for the project:"
   ]
  },
  {
   "cell_type": "code",
   "execution_count": 5,
   "id": "0abd4e14-3153-48e8-aa6f-f785b1d4e11e",
   "metadata": {},
   "outputs": [],
   "source": [
    "#loading the dataset \n",
    "fake_news = pd.read_csv(r'C:\\Users\\shive\\compiler_code\\new2\\Fake.csv')\n",
    "real_news = pd.read_csv(r'C:\\Users\\shive\\compiler_code\\new2\\True.csv')"
   ]
  },
  {
   "cell_type": "code",
   "execution_count": 6,
   "id": "993f0f07-0bc5-40bc-bff1-5597a489ca70",
   "metadata": {},
   "outputs": [
    {
     "name": "stdout",
     "output_type": "stream",
     "text": [
      "                                               title  \\\n",
      "0   Donald Trump Sends Out Embarrassing New Year’...   \n",
      "1   Drunk Bragging Trump Staffer Started Russian ...   \n",
      "2   Sheriff David Clarke Becomes An Internet Joke...   \n",
      "3   Trump Is So Obsessed He Even Has Obama’s Name...   \n",
      "4   Pope Francis Just Called Out Donald Trump Dur...   \n",
      "\n",
      "                                                text subject  \\\n",
      "0  Donald Trump just couldn t wish all Americans ...    News   \n",
      "1  House Intelligence Committee Chairman Devin Nu...    News   \n",
      "2  On Friday, it was revealed that former Milwauk...    News   \n",
      "3  On Christmas day, Donald Trump announced that ...    News   \n",
      "4  Pope Francis used his annual Christmas Day mes...    News   \n",
      "\n",
      "                date  \n",
      "0  December 31, 2017  \n",
      "1  December 31, 2017  \n",
      "2  December 30, 2017  \n",
      "3  December 29, 2017  \n",
      "4  December 25, 2017  \n",
      "                                               title  \\\n",
      "0  As U.S. budget fight looms, Republicans flip t...   \n",
      "1  U.S. military to accept transgender recruits o...   \n",
      "2  Senior U.S. Republican senator: 'Let Mr. Muell...   \n",
      "3  FBI Russia probe helped by Australian diplomat...   \n",
      "4  Trump wants Postal Service to charge 'much mor...   \n",
      "\n",
      "                                                text       subject  \\\n",
      "0  WASHINGTON (Reuters) - The head of a conservat...  politicsNews   \n",
      "1  WASHINGTON (Reuters) - Transgender people will...  politicsNews   \n",
      "2  WASHINGTON (Reuters) - The special counsel inv...  politicsNews   \n",
      "3  WASHINGTON (Reuters) - Trump campaign adviser ...  politicsNews   \n",
      "4  SEATTLE/WASHINGTON (Reuters) - President Donal...  politicsNews   \n",
      "\n",
      "                 date  \n",
      "0  December 31, 2017   \n",
      "1  December 29, 2017   \n",
      "2  December 31, 2017   \n",
      "3  December 30, 2017   \n",
      "4  December 29, 2017   \n"
     ]
    }
   ],
   "source": [
    "#showing the sample of both the dataset:\n",
    "print(fake_news.head())\n",
    "print(real_news.head())"
   ]
  },
  {
   "cell_type": "code",
   "execution_count": 7,
   "id": "f6574a73-7671-4711-ae06-154fdc2b8bc3",
   "metadata": {},
   "outputs": [],
   "source": [
    "#set in form as bit for the real as well as fake news\n",
    "real_news['label'] = 1\n",
    "fake_news['label'] = 0"
   ]
  },
  {
   "cell_type": "code",
   "execution_count": 8,
   "id": "10324f38-4ac2-435e-998d-487ed03b7e38",
   "metadata": {},
   "outputs": [
    {
     "name": "stdout",
     "output_type": "stream",
     "text": [
      "Real news dataset shape: (21417, 5)\n",
      "Fake news dataset shape: (23481, 5)\n"
     ]
    }
   ],
   "source": [
    "#showing the basic information about the dataset:\n",
    "print(\"Real news dataset shape:\", real_news.shape)\n",
    "print(\"Fake news dataset shape:\", fake_news.shape)"
   ]
  },
  {
   "cell_type": "code",
   "execution_count": 9,
   "id": "5b85c8f0-1283-4d83-a911-5df99a5e4150",
   "metadata": {},
   "outputs": [],
   "source": [
    "#mergint the two sets of the data assuming that both are having the same structure:\n",
    "news_df = pd.concat([real_news, fake_news], axis=0)\n",
    "news_df = news_df.reset_index(drop=True)"
   ]
  },
  {
   "cell_type": "code",
   "execution_count": 10,
   "id": "00bbea1b-9b5c-4a82-b882-ea55c73fae2c",
   "metadata": {},
   "outputs": [
    {
     "name": "stdout",
     "output_type": "stream",
     "text": [
      "\n",
      "Sample data:\n",
      "                                               title  \\\n",
      "0  As U.S. budget fight looms, Republicans flip t...   \n",
      "1  U.S. military to accept transgender recruits o...   \n",
      "2  Senior U.S. Republican senator: 'Let Mr. Muell...   \n",
      "3  FBI Russia probe helped by Australian diplomat...   \n",
      "4  Trump wants Postal Service to charge 'much mor...   \n",
      "\n",
      "                                                text       subject  \\\n",
      "0  WASHINGTON (Reuters) - The head of a conservat...  politicsNews   \n",
      "1  WASHINGTON (Reuters) - Transgender people will...  politicsNews   \n",
      "2  WASHINGTON (Reuters) - The special counsel inv...  politicsNews   \n",
      "3  WASHINGTON (Reuters) - Trump campaign adviser ...  politicsNews   \n",
      "4  SEATTLE/WASHINGTON (Reuters) - President Donal...  politicsNews   \n",
      "\n",
      "                 date  label  \n",
      "0  December 31, 2017       1  \n",
      "1  December 29, 2017       1  \n",
      "2  December 31, 2017       1  \n",
      "3  December 30, 2017       1  \n",
      "4  December 29, 2017       1  \n"
     ]
    }
   ],
   "source": [
    "#showing the random data:\n",
    "print(\"\\nSample data:\")\n",
    "print(news_df.head())"
   ]
  },
  {
   "cell_type": "code",
   "execution_count": 11,
   "id": "3d70a331-98f7-4987-892a-3a4f0c2c7741",
   "metadata": {},
   "outputs": [
    {
     "name": "stdout",
     "output_type": "stream",
     "text": [
      "\n",
      "Missing values per column:\n",
      "title      0\n",
      "text       0\n",
      "subject    0\n",
      "date       0\n",
      "label      0\n",
      "dtype: int64\n"
     ]
    }
   ],
   "source": [
    "#checking for the missing data:\n",
    "print(\"\\nMissing values per column:\")\n",
    "print(news_df.isnull().sum())"
   ]
  },
  {
   "cell_type": "code",
   "execution_count": 12,
   "id": "20bc4ca1-a908-4abb-87bc-71d78db759e7",
   "metadata": {},
   "outputs": [
    {
     "name": "stdout",
     "output_type": "stream",
     "text": [
      "\n",
      "Label distribution:\n",
      "label\n",
      "0    23481\n",
      "1    21417\n",
      "Name: count, dtype: int64\n"
     ]
    }
   ],
   "source": [
    "#showing the complete stats of the data:\n",
    "print(\"\\nLabel distribution:\")\n",
    "print(news_df['label'].value_counts())"
   ]
  },
  {
   "cell_type": "code",
   "execution_count": 13,
   "id": "08935762-e3d7-41a3-ab84-996dc32b9f01",
   "metadata": {},
   "outputs": [
    {
     "data": {
      "image/png": "[encoded data removed]",
      "text/plain": [
       "<Figure size 800x600 with 1 Axes>"
      ]
     },
     "metadata": {},
     "output_type": "display_data"
    }
   ],
   "source": [
    "#showing in the form of the visual format:\n",
    "plt.figure(figsize=(8, 6))\n",
    "sns.countplot(x='label', hue='label', data=news_df, palette='viridis', legend=False)\n",
    "plt.title('Distribution of Real vs Fake News')\n",
    "plt.xlabel('Label (0=Fake, 1=Real)')\n",
    "plt.ylabel('Count')\n",
    "plt.show()"
   ]
  },
  {
   "cell_type": "code",
   "execution_count": 14,
   "id": "09fa2cce-327f-400c-bcb2-f17a14b360b4",
   "metadata": {},
   "outputs": [
    {
     "data": {
      "image/png": "[encoded data removed]",
      "text/plain": [
       "<Figure size 1200x600 with 1 Axes>"
      ]
     },
     "metadata": {},
     "output_type": "display_data"
    }
   ],
   "source": [
    "#calculating the length of the text for both from of the data:\n",
    "news_df['text_length'] = news_df['text'].apply(len)\n",
    "plt.figure(figsize=(12, 6))\n",
    "sns.histplot(data=news_df, x='text_length', hue='label', bins=50, kde=True)\n",
    "plt.title('Distribution of Text Lengths by Label')\n",
    "plt.xlabel('Text Length')\n",
    "plt.show()"
   ]
  },
  {
   "cell_type": "code",
   "execution_count": 15,
   "id": "7a5d3f08-acb9-4fb0-8960-ee1eeac928fc",
   "metadata": {},
   "outputs": [],
   "source": [
    "#Data preprocessing for the given project:"
   ]
  },
  {
   "cell_type": "code",
   "execution_count": 16,
   "id": "32484cb7-4897-4e97-b4c5-7e8054a37a01",
   "metadata": {},
   "outputs": [],
   "source": [
    "#function for cleaning the text:\n",
    "def clean_text(text):\n",
    "    if isinstance(text, str):\n",
    "        # Convert to lowercase\n",
    "        text = text.lower()\n",
    "        \n",
    "        # Remove URLs\n",
    "        text = re.sub(r'http\\S+|www\\S+|https\\S+', '', text)\n",
    "        \n",
    "        # Remove HTML tags\n",
    "        text = re.sub(r'<.*?>', '', text)\n",
    "        \n",
    "        # Remove punctuation\n",
    "        text = text.translate(str.maketrans('', '', string.punctuation))\n",
    "        \n",
    "        # Remove extra whitespace\n",
    "        text = re.sub(r'\\s+', ' ', text).strip()\n",
    "        \n",
    "        return text\n",
    "    else:\n",
    "        return \"\""
   ]
  },
  {
   "cell_type": "code",
   "execution_count": 17,
   "id": "e005f076-67d0-4bc1-b3a9-977d9707b8bc",
   "metadata": {},
   "outputs": [],
   "source": [
    "stop_words = set(stopwords.words('english'))\n",
    "\n",
    "def preprocess(text):\n",
    "    text = text.lower()  # Lowercase\n",
    "    text = re.sub(r'\\W+', ' ', text)  # Remove punctuation and special chars\n",
    "    words = text.split()\n",
    "    words = [word for word in words if word not in stop_words]  # Remove stopwords\n",
    "    return ' '.join(words)\n",
    "\n",
    "# Apply preprocessing\n",
    "news_df['processed_text'] = news_df['text'].apply(preprocess)"
   ]
  },
  {
   "cell_type": "code",
   "execution_count": 18,
   "id": "3195d794-435b-45cf-ada9-1054c3807e50",
   "metadata": {},
   "outputs": [],
   "source": [
    "def process_text(text):\n",
    "    try:\n",
    "        # Ensure text is a string\n",
    "        if not isinstance(text, str):\n",
    "            return \"\"\n",
    "            \n",
    "        # Tokenize\n",
    "        tokens = nltk.word_tokenize(text)\n",
    "        \n",
    "        # Remove stopwords\n",
    "        stop_words = set(stopwords.words('english'))\n",
    "        tokens = [word for word in tokens if word not in stop_words]\n",
    "        \n",
    "        # Lemmatize\n",
    "        lemmatizer = WordNetLemmatizer()\n",
    "        tokens = [lemmatizer.lemmatize(word) for word in tokens]\n",
    "        \n",
    "        # Join tokens back to text\n",
    "        processed_text = ' '.join(tokens)\n",
    "        \n",
    "        return processed_text\n",
    "    except Exception as e:\n",
    "        print(f\"Error in process_text: {type(e).__name__}: {e}\")\n",
    "        # Return the original text if processing fails\n",
    "        return text if isinstance(text, str) else \"\""
   ]
  },
  {
   "cell_type": "code",
   "execution_count": 19,
   "id": "72aa0848-6291-43c6-8dcd-fe39e85c3b40",
   "metadata": {},
   "outputs": [
    {
     "name": "stdout",
     "output_type": "stream",
     "text": [
      "Cleaning and processing text data...\n"
     ]
    }
   ],
   "source": [
    "# Apply text cleaning and processing\n",
    "print(\"Cleaning and processing text data...\")\n",
    "news_df['clean_text'] = news_df['text'].apply(clean_text)\n",
    "news_df['processed_text'] = news_df['clean_text'].apply(process_text)"
   ]
  },
  {
   "cell_type": "code",
   "execution_count": 20,
   "id": "e77e01c3-bc6d-4720-b058-c0e1d108fe38",
   "metadata": {},
   "outputs": [
    {
     "name": "stdout",
     "output_type": "stream",
     "text": [
      "\n",
      "Sample processed text:\n",
      "Original: WASHINGTON (Reuters) - The head of a conservative Republican faction in the U.S. Congress, who voted...\n",
      "Processed: washington reuters head conservative republican faction u congress voted month huge expansion nation...\n",
      "\n",
      "Original: WASHINGTON (Reuters) - Transgender people will be allowed for the first time to enlist in the U.S. m...\n",
      "Processed: washington reuters transgender people allowed first time enlist u military starting monday ordered f...\n",
      "\n"
     ]
    }
   ],
   "source": [
    "#displaying the text samples:\n",
    "print(\"\\nSample processed text:\")\n",
    "for i in range(2):\n",
    "    print(f\"Original: {news_df['text'].iloc[i][:100]}...\")\n",
    "    print(f\"Processed: {news_df['processed_text'].iloc[i][:100]}...\")\n",
    "    print()"
   ]
  },
  {
   "cell_type": "code",
   "execution_count": 21,
   "id": "025ee5b2-40ec-4575-82ee-6e68052ceca3",
   "metadata": {},
   "outputs": [],
   "source": [
    "#Training and testing the given data"
   ]
  },
  {
   "cell_type": "code",
   "execution_count": 22,
   "id": "be74cf80-e57a-4889-b785-648920862690",
   "metadata": {},
   "outputs": [],
   "source": [
    "#dividing the cleaned and preprocessed data into two parts for testing(20%) and training(80%)\n",
    "from sklearn.model_selection import train_test_split\n",
    "\n",
    "X = news_df['processed_text']\n",
    "y = news_df['label']\n",
    "\n",
    "X_train, X_test, y_train, y_test = train_test_split(\n",
    "    X, y,\n",
    "    test_size=0.2,\n",
    "    random_state=42  # ensures reproducibility (same shuffle every time)\n",
    ")\n",
    "# So your model learns from 80% and is tested on 20% it has never seen before, ensuring it generalizes well."
   ]
  },
  {
   "cell_type": "code",
   "execution_count": 23,
   "id": "1c42b8aa-8c77-47dd-ab0c-3b1badc3f855",
   "metadata": {},
   "outputs": [],
   "source": [
    "# Text (like news articles) is unstructured data, and ML models like LogisticRegression or RandomForest need numerical input.\n",
    "# TfidfVectorizer transforms your processed text into numerical feature vectors using a method called TF-IDF (Term Frequency - Inverse Document Frequency).\n",
    "from sklearn.feature_extraction.text import TfidfVectorizer\n",
    "\n",
    "vectorizer = TfidfVectorizer(max_features=5000)\n",
    "X_train_tfidf = vectorizer.fit_transform(X_train)\n",
    "X_test_tfidf = vectorizer.transform(X_test)\n"
   ]
  },
  {
   "cell_type": "code",
   "execution_count": 24,
   "id": "424512b2-00df-4e17-8750-d039819d8574",
   "metadata": {},
   "outputs": [
    {
     "name": "stdout",
     "output_type": "stream",
     "text": [
      "Accuracy: 0.9866369710467706\n",
      "Classification Report:\n",
      "               precision    recall  f1-score   support\n",
      "\n",
      "           0       0.99      0.98      0.99      4650\n",
      "           1       0.98      0.99      0.99      4330\n",
      "\n",
      "    accuracy                           0.99      8980\n",
      "   macro avg       0.99      0.99      0.99      8980\n",
      "weighted avg       0.99      0.99      0.99      8980\n",
      "\n"
     ]
    }
   ],
   "source": [
    "# Train a Logistic Regression model to classify whether a news article is real (1) or fake (0), based on its TF-IDF features.\n",
    "from sklearn.linear_model import LogisticRegression\n",
    "from sklearn.metrics import classification_report, confusion_matrix, accuracy_score\n",
    "\n",
    "# Train\n",
    "model = LogisticRegression()\n",
    "model.fit(X_train_tfidf, y_train)\n",
    "\n",
    "# Predict whether each article in the test is real or fake.\n",
    "y_pred = model.predict(X_test_tfidf)\n",
    "\n",
    "# Evaluate the score\n",
    "print(\"Accuracy:\", accuracy_score(y_test, y_pred))\n",
    "print(\"Classification Report:\\n\", classification_report(y_test, y_pred))\n"
   ]
  },
  {
   "cell_type": "code",
   "execution_count": 25,
   "id": "9fec7a6e-d0a6-4b57-ad4a-e3187190dd6c",
   "metadata": {},
   "outputs": [
    {
     "data": {
      "image/png": "[encoded data removed]",
      "text/plain": [
       "<Figure size 640x480 with 2 Axes>"
      ]
     },
     "metadata": {},
     "output_type": "display_data"
    }
   ],
   "source": [
    "#visualization of the data using confusion matrix and ROC curve to better observation.\n",
    "\n",
    "# Confusion Matrix\n",
    "import seaborn as sns\n",
    "import matplotlib.pyplot as plt\n",
    "cm = confusion_matrix(y_test, y_pred)\n",
    "# y_test: Represents the true, actual labels of your test dataset.\n",
    "# y_pred: Represents the labels predicted by your classification model on the test dataset.\n",
    "\n",
    "sns.heatmap(cm, annot=True, fmt='d', cmap='Blues')\n",
    "plt.title(\"Confusion Matrix\")\n",
    "plt.xlabel(\"Predicted\")\n",
    "# plt.ylabel(\"Actual\")\n",
    "plt.show()\n"
   ]
  },
  {
   "cell_type": "code",
   "execution_count": 26,
   "id": "dc3d0c9a-5dd2-40a3-948a-10c6be422fa1",
   "metadata": {},
   "outputs": [],
   "source": [
    "# Rows (Actual): These represent the true classes of your data points.\n",
    "\n",
    "#     0: Actual class 0\n",
    "#     1: Actual class 1\n",
    "\n",
    "# Columns (Predicted): These represent the classes predicted by your model.\n",
    "\n",
    "#     0: Predicted class 0\n",
    "#     1: Predicted class 1\n",
    "\n",
    "# The model is performing quite well overall, as the true positive (4289) and true negative (4571)\n",
    "# counts are significantly higher than the false positive (79) and false negative (41) counts."
   ]
  },
  {
   "cell_type": "code",
   "execution_count": 27,
   "id": "baf83c28-8ceb-4629-aa0a-27198d5bb958",
   "metadata": {},
   "outputs": [
    {
     "data": {
      "image/png": "[encoded data removed]",
      "text/plain": [
       "<Figure size 640x480 with 1 Axes>"
      ]
     },
     "metadata": {},
     "output_type": "display_data"
    }
   ],
   "source": [
    "# ROC Curve\n",
    "from sklearn.metrics import roc_curve, roc_auc_score\n",
    "\n",
    "# The Receiver Operating Characteristic (ROC) curve is a graphical plot that illustrates the diagnostic ability\n",
    "# of a binary classifier system as its discrimination threshold is varied. It plots the True Positive Rate (TPR)\n",
    "# against the False Positive Rate (FPR) at various threshold settings.\n",
    "\n",
    "y_prob = model.predict_proba(X_test_tfidf)[:, 1]\n",
    "fpr, tpr, _ = roc_curve(y_test, y_prob)\n",
    "auc_score = roc_auc_score(y_test, y_prob)\n",
    "\n",
    "plt.plot(fpr, tpr, label=f\"AUC = {auc_score:.2f}\")\n",
    "plt.plot([0, 1], [0, 1], linestyle='--')\n",
    "plt.title(\"ROC Curve\")\n",
    "plt.xlabel(\"FPR\")\n",
    "plt.ylabel(\"TPR\")\n",
    "plt.legend()  #Displays the legend, which includes the AUC score.\n",
    "plt.grid(True) #Adds a grid to the plot for better readability.\n",
    "plt.show()\n",
    "\n",
    "# a higher AUC score means your model is better at correctly ranking positive instances above negative instances,\n",
    "# regardless of the specific threshold you choose for classification.\n",
    "# AUC score stands for Area Under the Receiver Operating Characteristic (ROC) Curve. "
   ]
  },
  {
   "cell_type": "code",
   "execution_count": 28,
   "id": "a610b911-fb97-44cd-84ee-874272032c17",
   "metadata": {},
   "outputs": [
    {
     "data": {
      "text/plain": [
       "['tfidf_vectorizer.pkl']"
      ]
     },
     "execution_count": 28,
     "metadata": {},
     "output_type": "execute_result"
    }
   ],
   "source": [
    "import joblib\n",
    "joblib.dump(model, 'logistic_model.pkl')\n",
    "joblib.dump(vectorizer, 'tfidf_vectorizer.pkl')\n",
    "# These lines of code signify the saving (or \"persisting\") of trained machine learning objects to disk"
   ]
  },
  {
   "cell_type": "code",
   "execution_count": null,
   "id": "54f3eed7-bd92-4a3a-a089-adcab8c95e13",
   "metadata": {},
   "outputs": [],
   "source": []
  }
 ],
 "metadata": {
  "kernelspec": {
   "display_name": "Python 3 (ipykernel)",
   "language": "python",
   "name": "python3"
  },
  "language_info": {
   "codemirror_mode": {
    "name": "ipython",
    "version": 3
   },
   "file_extension": ".py",
   "mimetype": "text/x-python",
   "name": "python",
   "nbconvert_exporter": "python",
   "pygments_lexer": "ipython3",
   "version": "3.12.6"
  }
 },
 "nbformat": 4,
 "nbformat_minor": 5
}
